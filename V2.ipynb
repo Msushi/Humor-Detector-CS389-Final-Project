{
 "cells": [
  {
   "cell_type": "code",
   "execution_count": 1,
   "id": "b8f6a977",
   "metadata": {},
   "outputs": [],
   "source": [
    "import torch\n",
    "import torch.nn as nn\n",
    "import pandas as pd\n",
    "from keras.preprocessing.text import Tokenizer\n",
    "from keras.preprocessing import sequence\n",
    "from tqdm import tqdm\n",
    "from torch.utils.data import Dataset\n",
    "from torch.utils.data import DataLoader\n",
    "import matplotlib.pyplot as plt\n",
    "import numpy as np"
   ]
  },
  {
   "cell_type": "code",
   "execution_count": 2,
   "id": "afbc87a5",
   "metadata": {},
   "outputs": [],
   "source": [
    "class Preprocessing:\n",
    "    \n",
    "    def __init__(self, data_path, max_len, max_words):\n",
    "        self.data = data_path\n",
    "        self.max_len = max_len\n",
    "        self.max_words = max_words\n",
    "        \n",
    "    def load_data(self):\n",
    "        df = pd.read_csv(self.data)\n",
    "        text = df['text'].values\n",
    "        labels = df['humor'].values\n",
    "        return text, labels\n",
    "        \n",
    "    def prepare_tokens(self, text):\n",
    "        self.tokens = Tokenizer(num_words = self.max_words)\n",
    "        self.tokens.fit_on_texts(text)\n",
    "        \n",
    "    def sequence_to_token(self, x):\n",
    "        sequences = self.tokens.texts_to_sequences(x)\n",
    "        return sequence.pad_sequences(sequences, maxlen = self.max_len)"
   ]
  },
  {
   "cell_type": "code",
   "execution_count": 73,
   "id": "6c7463fe",
   "metadata": {},
   "outputs": [],
   "source": [
    "class HumorDetector(nn.ModuleList):\n",
    "    \n",
    "    def __init__(self, batch_size, hidden_dim, LSTM_layers, input_size):\n",
    "        super(HumorDetector, self).__init__()\n",
    "        \n",
    "        self.batch_size = batch_size\n",
    "        self.hidden_dim = hidden_dim\n",
    "        self.LSTM_layers = LSTM_layers\n",
    "        self.input_size = input_size\n",
    "        \n",
    "        self.dropout = nn.Dropout(0.5)\n",
    "        self.embedding = nn.Embedding(self.input_size, self.hidden_dim, padding_idx=0)\n",
    "        self.lstm = nn.LSTM(input_size=self.hidden_dim, hidden_size=self.hidden_dim, num_layers=self.LSTM_layers, batch_first=True)\n",
    "        self.lin1 = nn.Linear(self.hidden_dim, self.hidden_dim*2)\n",
    "        self.lin2 = nn.Linear(self.hidden_dim*2, 2)\n",
    "        self.softmax = nn.Softmax(dim = 1)\n",
    "        \n",
    "    def forward(self, x):\n",
    "        h = torch.zeros((self.LSTM_layers, x.size(0), self.hidden_dim))\n",
    "        c = torch.zeros((self.LSTM_layers, x.size(0), self.hidden_dim))\n",
    "        \n",
    "        torch.nn.init.xavier_normal_(h)\n",
    "        torch.nn.init.xavier_normal_(c)\n",
    "        \n",
    "        out = self.embedding(x)\n",
    "        out, (hidden, cell) = self.lstm(out, (h,c))\n",
    "        out = self.dropout(out)\n",
    "        out = torch.relu_(self.lin1(out[:,-1,:]))\n",
    "        out = self.dropout(out)\n",
    "#         out = torch.sigmoid(self.lin2(out))\n",
    "        out = self.softmax(self.lin2(out))\n",
    "        \n",
    "        \n",
    "        return out"
   ]
  },
  {
   "cell_type": "code",
   "execution_count": 80,
   "id": "06891663",
   "metadata": {},
   "outputs": [],
   "source": [
    "# torch.autograd.set_detect_anomaly(True)\n",
    "def training(model, loss_function, optimizer, n_epochs, update_interval, loader_training):\n",
    "    \n",
    "    losses = []\n",
    "    avg_loss = []\n",
    "    num_acc = 0\n",
    "    for n in range(n_epochs):\n",
    "        i = 0\n",
    "        for x_batch, y_batch in (tqdm(loader_training)):\n",
    "\n",
    "            optimizer.zero_grad()\n",
    "            \n",
    "            x = x_batch.type(torch.LongTensor)\n",
    "            y = y_batch.type(torch.LongTensor)\n",
    "#             if(y == prediction):\n",
    "                \n",
    "            \n",
    "            my_output = model(x)\n",
    "            _ , prediction = torch.max(my_output, 1)\n",
    "#             print(prediction)\n",
    "#             print(my_output)       \n",
    "#             my_output[my_output > 0.5] = 1\n",
    "#             my_output[my_output <= 0.5] = 0\n",
    "#             print(my_output)\n",
    "            loss = loss_function(my_output, y)\n",
    "            loss.backward()\n",
    "            optimizer.step()\n",
    "            \n",
    "            if i % update_interval == 0:\n",
    "                losses.append(round(loss.item(), 2)) # This will append your losses for plotting -- please use \"loss\" as the name for your loss\n",
    "                avg_loss.append(sum(losses)/len(losses))\n",
    "            i += 1\n",
    "        \n",
    "    return model, losses, avg_loss"
   ]
  },
  {
   "cell_type": "code",
   "execution_count": 81,
   "id": "638306f4",
   "metadata": {},
   "outputs": [],
   "source": [
    "def calcAccuracy(model, loader_training):\n",
    "        numAcc = 0\n",
    "        i = 0\n",
    "        totalnum = 0\n",
    "        for x_batch, y_batch in (tqdm(loader_training)):\n",
    "            optimizer.zero_grad()\n",
    "            \n",
    "            x = x_batch.type(torch.LongTensor)\n",
    "            y = y_batch.type(torch.LongTensor)\n",
    "            \n",
    "            my_output = model(x)\n",
    "            _ , prediction = torch.max(my_output, 1)\n",
    "            for index in range(len(y)):\n",
    "                totalnum = totalnum + 1\n",
    "                if(prediction[index] == y[index]):\n",
    "                    numAcc = numAcc + 1\n",
    "        return numAcc/(totalnum)"
   ]
  },
  {
   "cell_type": "code",
   "execution_count": 82,
   "id": "856e0104",
   "metadata": {},
   "outputs": [],
   "source": [
    "class DatasetMapper(Dataset):\n",
    "    def __init__(self, x, y):\n",
    "        self.x = x\n",
    "        self.y = y\n",
    "    \n",
    "    def __len__(self):\n",
    "        return len(self.x)\n",
    "    \n",
    "    def __getitem__(self, i):\n",
    "        return self.x[i], self.y[i]"
   ]
  },
  {
   "cell_type": "code",
   "execution_count": 83,
   "id": "fa3e6215",
   "metadata": {
    "scrolled": false
   },
   "outputs": [
    {
     "name": "stderr",
     "output_type": "stream",
     "text": [
      "100%|██████████| 3125/3125 [09:10<00:00,  5.68it/s]\n"
     ]
    },
    {
     "name": "stdout",
     "output_type": "stream",
     "text": [
      "Accuracy before training: 0.50068\n"
     ]
    },
    {
     "name": "stderr",
     "output_type": "stream",
     "text": [
      "100%|██████████| 3125/3125 [10:16<00:00,  5.07it/s]\n",
      "100%|██████████| 3125/3125 [08:55<00:00,  5.84it/s]"
     ]
    },
    {
     "name": "stdout",
     "output_type": "stream",
     "text": [
      "Accuracy after training: 0.88955\n"
     ]
    },
    {
     "name": "stderr",
     "output_type": "stream",
     "text": [
      "\n"
     ]
    }
   ],
   "source": [
    "#Hyperparameters\n",
    "batch_size = 64\n",
    "hidden_dim = 128\n",
    "LSTM_layers = 2\n",
    "lr = 1e-4\n",
    "n_epochs = 1\n",
    "update_interval = 32\n",
    "\n",
    "preprocessing = Preprocessing(\"data/dataset.csv\", 10, 100)\n",
    "x_train, y_train = preprocessing.load_data()\n",
    "preprocessing.prepare_tokens(x_train)\n",
    "x_train = preprocessing.sequence_to_token(x_train)\n",
    "\n",
    "training_set = DatasetMapper(x_train, y_train)\n",
    "loader_training = DataLoader(training_set, batch_size=batch_size)\n",
    "\n",
    "model = HumorDetector(batch_size, hidden_dim, LSTM_layers, 100)\n",
    "\n",
    "loss_function = nn.CrossEntropyLoss()\n",
    "optimizer = torch.optim.Adam(model.parameters(), lr=lr)\n",
    "\n",
    "print(\"Accuracy before training: {}\".format(calcAccuracy(model, loader_training)))\n",
    "\n",
    "trained_model, losses, avg_loss = training(model, loss_function, optimizer, n_epochs, update_interval, loader_training)\n",
    "\n",
    "print(\"Accuracy after training: {}\".format(calcAccuracy(model, loader_training)))\n"
   ]
  },
  {
   "cell_type": "code",
   "execution_count": 84,
   "id": "46da35d6",
   "metadata": {},
   "outputs": [
    {
     "data": {
      "image/png": "[encoded data removed]",
      "text/plain": [
       "<Figure size 640x480 with 1 Axes>"
      ]
     },
     "metadata": {},
     "output_type": "display_data"
    }
   ],
   "source": [
    "plt.plot(np.arange(len(losses)) * update_interval, avg_loss)\n",
    "plt.title(\"training curve\")\n",
    "plt.xlabel(\"number of strings trained on\")\n",
    "plt.ylabel(\"Loss\")\n",
    "plt.show()"
   ]
  },
  {
   "cell_type": "code",
   "execution_count": 55,
   "id": "4a264129",
   "metadata": {},
   "outputs": [
    {
     "name": "stdout",
     "output_type": "stream",
     "text": [
      "Funny value of a joke (funny):\n"
     ]
    },
    {
     "ename": "TypeError",
     "evalue": "forward() takes 2 positional arguments but 4 were given",
     "output_type": "error",
     "traceback": [
      "\u001b[0;31m---------------------------------------------------------------------------\u001b[0m",
      "\u001b[0;31mTypeError\u001b[0m                                 Traceback (most recent call last)",
      "Input \u001b[0;32mIn [55]\u001b[0m, in \u001b[0;36m<cell line: 4>\u001b[0;34m()\u001b[0m\n\u001b[1;32m      1\u001b[0m test_strings \u001b[38;5;241m=\u001b[39m [\u001b[38;5;124m\"\u001b[39m\u001b[38;5;124mHow do you get a 100 cows into a barn? put up a bingo sign!\u001b[39m\u001b[38;5;124m\"\u001b[39m,\n\u001b[1;32m      2\u001b[0m                 \u001b[38;5;124m\"\u001b[39m\u001b[38;5;124mPeople with high diabetes risk could lower heart risks by walking more each day: study\u001b[39m\u001b[38;5;124m\"\u001b[39m]\n\u001b[1;32m      3\u001b[0m \u001b[38;5;28mprint\u001b[39m(\u001b[38;5;124m\"\u001b[39m\u001b[38;5;124mFunny value of a joke (funny):\u001b[39m\u001b[38;5;124m\"\u001b[39m)\n\u001b[0;32m----> 4\u001b[0m \u001b[38;5;28mprint\u001b[39m(\u001b[43mmodel\u001b[49m\u001b[43m(\u001b[49m\u001b[43mtrained_model\u001b[49m\u001b[43m,\u001b[49m\u001b[43m \u001b[49m\u001b[43mtest_strings\u001b[49m\u001b[43m,\u001b[49m\u001b[43m \u001b[49m\u001b[38;5;241;43m0\u001b[39;49m\u001b[43m)\u001b[49m\u001b[38;5;241m.\u001b[39mitem())\n\u001b[1;32m      5\u001b[0m \u001b[38;5;28mprint\u001b[39m(\u001b[38;5;124m\"\u001b[39m\u001b[38;5;124mFunny value of a statement (not funny):\u001b[39m\u001b[38;5;124m\"\u001b[39m)\n\u001b[1;32m      6\u001b[0m \u001b[38;5;28mprint\u001b[39m(model(trained_model, test_strings, \u001b[38;5;241m1\u001b[39m)\u001b[38;5;241m.\u001b[39mitem())\n",
      "File \u001b[0;32m~/opt/anaconda3/envs/ml/lib/python3.8/site-packages/torch/nn/modules/module.py:1102\u001b[0m, in \u001b[0;36mModule._call_impl\u001b[0;34m(self, *input, **kwargs)\u001b[0m\n\u001b[1;32m   1098\u001b[0m \u001b[38;5;66;03m# If we don't have any hooks, we want to skip the rest of the logic in\u001b[39;00m\n\u001b[1;32m   1099\u001b[0m \u001b[38;5;66;03m# this function, and just call forward.\u001b[39;00m\n\u001b[1;32m   1100\u001b[0m \u001b[38;5;28;01mif\u001b[39;00m \u001b[38;5;129;01mnot\u001b[39;00m (\u001b[38;5;28mself\u001b[39m\u001b[38;5;241m.\u001b[39m_backward_hooks \u001b[38;5;129;01mor\u001b[39;00m \u001b[38;5;28mself\u001b[39m\u001b[38;5;241m.\u001b[39m_forward_hooks \u001b[38;5;129;01mor\u001b[39;00m \u001b[38;5;28mself\u001b[39m\u001b[38;5;241m.\u001b[39m_forward_pre_hooks \u001b[38;5;129;01mor\u001b[39;00m _global_backward_hooks\n\u001b[1;32m   1101\u001b[0m         \u001b[38;5;129;01mor\u001b[39;00m _global_forward_hooks \u001b[38;5;129;01mor\u001b[39;00m _global_forward_pre_hooks):\n\u001b[0;32m-> 1102\u001b[0m     \u001b[38;5;28;01mreturn\u001b[39;00m \u001b[43mforward_call\u001b[49m\u001b[43m(\u001b[49m\u001b[38;5;241;43m*\u001b[39;49m\u001b[38;5;28;43minput\u001b[39;49m\u001b[43m,\u001b[49m\u001b[43m \u001b[49m\u001b[38;5;241;43m*\u001b[39;49m\u001b[38;5;241;43m*\u001b[39;49m\u001b[43mkwargs\u001b[49m\u001b[43m)\u001b[49m\n\u001b[1;32m   1103\u001b[0m \u001b[38;5;66;03m# Do not call functions when jit is used\u001b[39;00m\n\u001b[1;32m   1104\u001b[0m full_backward_hooks, non_full_backward_hooks \u001b[38;5;241m=\u001b[39m [], []\n",
      "\u001b[0;31mTypeError\u001b[0m: forward() takes 2 positional arguments but 4 were given"
     ]
    }
   ],
   "source": [
    "test_strings = [\"How do you get a 100 cows into a barn? put up a bingo sign!\",\n",
    "                \"People with high diabetes risk could lower heart risks by walking more each day: study\"]\n",
    "print(\"Funny value of a joke (funny):\")\n",
    "print(model(trained_model, test_strings, 0).item())\n",
    "print(\"Funny value of a statement (not funny):\")\n",
    "print(model(trained_model, test_strings, 1).item())"
   ]
  },
  {
   "cell_type": "code",
   "execution_count": null,
   "id": "8ae0b6d1",
   "metadata": {},
   "outputs": [],
   "source": []
  }
 ],
 "metadata": {
  "kernelspec": {
   "display_name": "Python 3",
   "language": "python",
   "name": "python3"
  },
  "language_info": {
   "codemirror_mode": {
    "name": "ipython",
    "version": 3
   },
   "file_extension": ".py",
   "mimetype": "text/x-python",
   "name": "python",
   "nbconvert_exporter": "python",
   "pygments_lexer": "ipython3",
   "version": "3.8.13"
  }
 },
 "nbformat": 4,
 "nbformat_minor": 5
}
