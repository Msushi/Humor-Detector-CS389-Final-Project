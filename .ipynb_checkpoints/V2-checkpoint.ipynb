{
 "cells": [
  {
   "cell_type": "code",
   "execution_count": 1,
   "id": "b8f6a977",
   "metadata": {},
   "outputs": [
    {
     "name": "stderr",
     "output_type": "stream",
     "text": [
      "2022-04-26 16:23:14.987014: W tensorflow/stream_executor/platform/default/dso_loader.cc:64] Could not load dynamic library 'libcudart.so.11.0'; dlerror: libcudart.so.11.0: cannot open shared object file: No such file or directory\n",
      "2022-04-26 16:23:14.987052: I tensorflow/stream_executor/cuda/cudart_stub.cc:29] Ignore above cudart dlerror if you do not have a GPU set up on your machine.\n"
     ]
    }
   ],
   "source": [
    "import torch\n",
    "import torch.nn as nn\n",
    "import pandas as pd\n",
    "from keras.preprocessing.text import Tokenizer\n",
    "from keras.preprocessing import sequence\n",
    "from tqdm import tqdm\n",
    "from torch.utils.data import Dataset\n",
    "from torch.utils.data import DataLoader\n",
    "import matplotlib.pyplot as plt\n",
    "import numpy as np"
   ]
  },
  {
   "cell_type": "code",
   "execution_count": 2,
   "id": "afbc87a5",
   "metadata": {},
   "outputs": [],
   "source": [
    "class Preprocessing:\n",
    "    \n",
    "    def __init__(self, data_path, max_len, max_words):\n",
    "        self.data = data_path\n",
    "        self.max_len = max_len\n",
    "        self.max_words = max_words\n",
    "        \n",
    "    def load_data(self):\n",
    "        df = pd.read_csv(self.data)\n",
    "        text = df['text'].values\n",
    "        labels = df['humor'].values\n",
    "        return text, labels\n",
    "        \n",
    "    def prepare_tokens(self, text):\n",
    "        self.tokens = Tokenizer(num_words = self.max_words)\n",
    "        self.tokens.fit_on_texts(text)\n",
    "        \n",
    "    def sequence_to_token(self, x):\n",
    "        sequences = self.tokens.texts_to_sequences(x)\n",
    "        return sequence.pad_sequences(sequences, maxlen = self.max_len)"
   ]
  },
  {
   "cell_type": "code",
   "execution_count": 3,
   "id": "6c7463fe",
   "metadata": {},
   "outputs": [],
   "source": [
    "class HumorDetector(nn.ModuleList):\n",
    "    \n",
    "    def __init__(self, batch_size, hidden_dim, LSTM_layers, input_size):\n",
    "        super(HumorDetector, self).__init__()\n",
    "        \n",
    "        self.batch_size = batch_size\n",
    "        self.hidden_dim = hidden_dim\n",
    "        self.LSTM_layers = LSTM_layers\n",
    "        self.input_size = input_size\n",
    "        \n",
    "        self.dropout = nn.Dropout(0.5)\n",
    "        self.embedding = nn.Embedding(self.input_size, self.hidden_dim, padding_idx=0)\n",
    "        self.lstm = nn.LSTM(input_size=self.hidden_dim, hidden_size=self.hidden_dim, num_layers=self.LSTM_layers, batch_first=True)\n",
    "        self.lin1 = nn.Linear(self.hidden_dim, self.hidden_dim*2)\n",
    "        self.lin2 = nn.Linear(self.hidden_dim*2, 2)\n",
    "        self.softmax = nn.Softmax(dim = 1)\n",
    "        \n",
    "    def forward(self, x):\n",
    "        h = torch.zeros((self.LSTM_layers, x.size(0), self.hidden_dim))\n",
    "        c = torch.zeros((self.LSTM_layers, x.size(0), self.hidden_dim))\n",
    "        \n",
    "        torch.nn.init.xavier_normal_(h)\n",
    "        torch.nn.init.xavier_normal_(c)\n",
    "        \n",
    "        out = self.embedding(x)\n",
    "        out, (hidden, cell) = self.lstm(out, (h,c))\n",
    "        out = self.dropout(out)\n",
    "        out = torch.relu_(self.lin1(out[:,-1,:]))\n",
    "        out = self.dropout(out)\n",
    "#         out = torch.sigmoid(self.lin2(out))\n",
    "        out = self.softmax(self.lin2(out))\n",
    "        \n",
    "        \n",
    "        return out"
   ]
  },
  {
   "cell_type": "code",
   "execution_count": 4,
   "id": "06891663",
   "metadata": {},
   "outputs": [],
   "source": [
    "# torch.autograd.set_detect_anomaly(True)\n",
    "def training(model, loss_function, optimizer, n_epochs, update_interval, loader_training):\n",
    "    \n",
    "    losses = []\n",
    "    avg_loss = []\n",
    "    num_acc = 0\n",
    "    for n in range(n_epochs):\n",
    "        i = 0\n",
    "        for x_batch, y_batch in (tqdm(loader_training)):\n",
    "\n",
    "            optimizer.zero_grad()\n",
    "            \n",
    "            x = x_batch.type(torch.LongTensor)\n",
    "            y = y_batch.type(torch.LongTensor)\n",
    "#             if(y == prediction):\n",
    "                \n",
    "            \n",
    "            my_output = model(x)\n",
    "            _ , prediction = torch.max(my_output, 1)\n",
    "#             print(prediction)\n",
    "#             print(my_output)       \n",
    "#             my_output[my_output > 0.5] = 1\n",
    "#             my_output[my_output <= 0.5] = 0\n",
    "#             print(my_output)\n",
    "            loss = loss_function(my_output, y)\n",
    "            loss.backward()\n",
    "            optimizer.step()\n",
    "            \n",
    "            if i % update_interval == 0:\n",
    "                losses.append(round(loss.item(), 2)) # This will append your losses for plotting -- please use \"loss\" as the name for your loss\n",
    "                avg_loss.append(sum(losses)/len(losses))\n",
    "            i += 1\n",
    "        \n",
    "    return model, losses, avg_loss"
   ]
  },
  {
   "cell_type": "code",
   "execution_count": 5,
   "id": "638306f4",
   "metadata": {},
   "outputs": [],
   "source": [
    "def calcAccuracy(model, loader_training):\n",
    "        numAcc = 0\n",
    "        i = 0\n",
    "        totalnum = 0\n",
    "        for x_batch, y_batch in (tqdm(loader_training)):\n",
    "            optimizer.zero_grad()\n",
    "            \n",
    "            x = x_batch.type(torch.LongTensor)\n",
    "            y = y_batch.type(torch.LongTensor)\n",
    "            \n",
    "            my_output = model(x)\n",
    "            _ , prediction = torch.max(my_output, 1)\n",
    "            for index in range(len(y)):\n",
    "                totalnum = totalnum + 1\n",
    "                if(prediction[index] == y[index]):\n",
    "                    numAcc = numAcc + 1\n",
    "        return numAcc/(totalnum)"
   ]
  },
  {
   "cell_type": "code",
   "execution_count": 6,
   "id": "856e0104",
   "metadata": {},
   "outputs": [],
   "source": [
    "class DatasetMapper(Dataset):\n",
    "    def __init__(self, x, y):\n",
    "        self.x = x\n",
    "        self.y = y\n",
    "    \n",
    "    def __len__(self):\n",
    "        return len(self.x)\n",
    "    \n",
    "    def __getitem__(self, i):\n",
    "        return self.x[i], self.y[i]"
   ]
  },
  {
   "cell_type": "code",
   "execution_count": 7,
   "id": "fa3e6215",
   "metadata": {
    "scrolled": false
   },
   "outputs": [
    {
     "name": "stderr",
     "output_type": "stream",
     "text": [
      "100%|███████████████████████████████████████| 3125/3125 [01:15<00:00, 41.53it/s]\n"
     ]
    },
    {
     "name": "stdout",
     "output_type": "stream",
     "text": [
      "Accuracy before training: 0.487585\n"
     ]
    },
    {
     "name": "stderr",
     "output_type": "stream",
     "text": [
      "100%|███████████████████████████████████████| 3125/3125 [03:12<00:00, 16.27it/s]\n",
      "100%|███████████████████████████████████████| 3125/3125 [01:13<00:00, 42.37it/s]"
     ]
    },
    {
     "name": "stdout",
     "output_type": "stream",
     "text": [
      "Accuracy after training: 0.889495\n"
     ]
    },
    {
     "name": "stderr",
     "output_type": "stream",
     "text": [
      "\n"
     ]
    }
   ],
   "source": [
    "#Hyperparameters\n",
    "batch_size = 64\n",
    "hidden_dim = 128\n",
    "LSTM_layers = 2\n",
    "lr = 1e-4\n",
    "n_epochs = 1\n",
    "update_interval = 32\n",
    "\n",
    "preprocessing = Preprocessing(\"data/dataset.csv\", 10, 100)\n",
    "x_train, y_train = preprocessing.load_data()\n",
    "preprocessing.prepare_tokens(x_train)\n",
    "x_train = preprocessing.sequence_to_token(x_train)\n",
    "\n",
    "training_set = DatasetMapper(x_train, y_train)\n",
    "loader_training = DataLoader(training_set, batch_size=batch_size)\n",
    "\n",
    "model = HumorDetector(batch_size, hidden_dim, LSTM_layers, 100)\n",
    "\n",
    "loss_function = nn.CrossEntropyLoss()\n",
    "optimizer = torch.optim.Adam(model.parameters(), lr=lr)\n",
    "\n",
    "print(\"Accuracy before training: {}\".format(calcAccuracy(model, loader_training)))\n",
    "\n",
    "trained_model, losses, avg_loss = training(model, loss_function, optimizer, n_epochs, update_interval, loader_training)\n",
    "\n",
    "print(\"Accuracy after training: {}\".format(calcAccuracy(model, loader_training)))\n"
   ]
  },
  {
   "cell_type": "code",
   "execution_count": 8,
   "id": "46da35d6",
   "metadata": {},
   "outputs": [
    {
     "data": {
      "image/png": "[encoded data removed]",
      "text/plain": [
       "<Figure size 432x288 with 1 Axes>"
      ]
     },
     "metadata": {
      "needs_background": "light"
     },
     "output_type": "display_data"
    }
   ],
   "source": [
    "plt.plot(np.arange(len(losses)) * update_interval, avg_loss)\n",
    "plt.title(\"training curve\")\n",
    "plt.xlabel(\"number of strings trained on\")\n",
    "plt.ylabel(\"Loss\")\n",
    "plt.show()"
   ]
  },
  {
   "cell_type": "code",
   "execution_count": 16,
   "id": "e6ff6163",
   "metadata": {},
   "outputs": [
    {
     "name": "stderr",
     "output_type": "stream",
     "text": [
      "100%|███████████████████████████████████████| 3125/3125 [03:23<00:00, 15.39it/s]\n",
      "100%|███████████████████████████████████████| 3125/3125 [01:19<00:00, 39.38it/s]\n",
      "100%|███████████████████████████████████████| 3125/3125 [03:13<00:00, 16.12it/s]\n",
      "100%|███████████████████████████████████████| 3125/3125 [01:18<00:00, 39.81it/s]\n",
      "100%|███████████████████████████████████████| 3125/3125 [03:11<00:00, 16.30it/s]\n",
      "100%|███████████████████████████████████████| 3125/3125 [01:18<00:00, 39.75it/s]\n",
      "100%|███████████████████████████████████████| 3125/3125 [03:14<00:00, 16.05it/s]\n",
      "100%|███████████████████████████████████████| 3125/3125 [01:19<00:00, 39.51it/s]\n",
      "100%|███████████████████████████████████████| 3125/3125 [03:29<00:00, 14.92it/s]\n",
      "100%|███████████████████████████████████████| 3125/3125 [01:19<00:00, 39.46it/s]\n",
      "100%|███████████████████████████████████████| 3125/3125 [03:17<00:00, 15.84it/s]\n",
      "100%|███████████████████████████████████████| 3125/3125 [01:20<00:00, 39.04it/s]\n"
     ]
    }
   ],
   "source": [
    "#Hyperparameter search - learning rate\n",
    "possible_lrs = [1e-5, 2e-4, 5e-4, 1e-3, 5e-3, 1e-2]\n",
    "lr_accuracies = []\n",
    "for rate in possible_lrs:\n",
    "    lr = rate\n",
    "    model = HumorDetector(batch_size, hidden_dim, LSTM_layers, 100)\n",
    "    loss_function = nn.CrossEntropyLoss()\n",
    "    optimizer = torch.optim.Adam(model.parameters(), lr=lr)\n",
    "    trained_model, losses, avg_loss = training(model, loss_function, optimizer, n_epochs, update_interval, loader_training)\n",
    "    lr_accuracies.append(calcAccuracy(model, loader_training))\n"
   ]
  },
  {
   "cell_type": "code",
   "execution_count": 36,
   "id": "b953c745",
   "metadata": {},
   "outputs": [
    {
     "data": {
      "image/png": "[encoded data removed]",
      "text/plain": [
       "<Figure size 432x288 with 1 Axes>"
      ]
     },
     "metadata": {
      "needs_background": "light"
     },
     "output_type": "display_data"
    }
   ],
   "source": [
    "plt.scatter(possible_lrs[0:5], lr_accuracies[0:5])\n",
    "plt.title(\"Hyperparameter search\")\n",
    "plt.xlabel(\"Learning Rates\")\n",
    "plt.ylabel(\"Accuracy\")\n",
    "plt.xscale('log')\n",
    "plt.show()"
   ]
  },
  {
   "cell_type": "code",
   "execution_count": null,
   "id": "4a264129",
   "metadata": {},
   "outputs": [],
   "source": [
    "test_strings = [\"How do you get a 100 cows into a barn? put up a bingo sign!\",\n",
    "                \"People with high diabetes risk could lower heart risks by walking more each day: study\"]\n",
    "print(\"Funny value of a joke (funny):\")\n",
    "print(model(trained_model, test_strings, 0).item())\n",
    "print(\"Funny value of a statement (not funny):\")\n",
    "print(model(trained_model, test_strings, 1).item())"
   ]
  },
  {
   "cell_type": "code",
   "execution_count": null,
   "id": "8ae0b6d1",
   "metadata": {},
   "outputs": [],
   "source": []
  }
 ],
 "metadata": {
  "kernelspec": {
   "display_name": "Python 3 (ipykernel)",
   "language": "python",
   "name": "python3"
  },
  "language_info": {
   "codemirror_mode": {
    "name": "ipython",
    "version": 3
   },
   "file_extension": ".py",
   "mimetype": "text/x-python",
   "name": "python",
   "nbconvert_exporter": "python",
   "pygments_lexer": "ipython3",
   "version": "3.8.10"
  }
 },
 "nbformat": 4,
 "nbformat_minor": 5
}
