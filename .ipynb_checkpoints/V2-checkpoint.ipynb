{
 "cells": [
  {
   "cell_type": "code",
   "execution_count": 10,
   "id": "b8f6a977",
   "metadata": {},
   "outputs": [],
   "source": [
    "import torch\n",
    "import torch.nn as nn\n",
    "import pandas as pd\n",
    "from keras.preprocessing.text import Tokenizer\n",
    "from keras.preprocessing import sequence\n",
    "from tqdm import tqdm\n",
    "from torch.utils.data import Dataset\n",
    "from torch.utils.data import DataLoader\n",
    "import matplotlib.pyplot as plt\n",
    "import numpy as np"
   ]
  },
  {
   "cell_type": "code",
   "execution_count": 19,
   "id": "afbc87a5",
   "metadata": {},
   "outputs": [],
   "source": [
    "class Preprocessing:\n",
    "    \n",
    "    def __init__(self, data_path, max_len, max_words):\n",
    "        self.data = data_path\n",
    "        self.max_len = max_len\n",
    "        self.max_words = max_words\n",
    "        \n",
    "    def load_data(self):\n",
    "        df = pd.read_csv(self.data)\n",
    "        text = df['text'].values\n",
    "        labels = df['humor'].values\n",
    "        return text, labels\n",
    "        \n",
    "    def prepare_tokens(self, text):\n",
    "        self.tokens = Tokenizer(num_words = self.max_words)\n",
    "        self.tokens.fit_on_texts(text)\n",
    "        \n",
    "    def sequence_to_token(self, x):\n",
    "        sequences = self.tokens.texts_to_sequences(x)\n",
    "        return sequence.pad_sequences(sequences, maxlen = self.max_len)"
   ]
  },
  {
   "cell_type": "code",
   "execution_count": 27,
   "id": "6c7463fe",
   "metadata": {},
   "outputs": [],
   "source": [
    "class HumorDetector(nn.ModuleList):\n",
    "    \n",
    "    def __init__(self, batch_size, hidden_dim, LSTM_layers, input_size):\n",
    "        super(HumorDetector, self).__init__()\n",
    "        \n",
    "        self.batch_size = batch_size\n",
    "        self.hidden_dim = hidden_dim\n",
    "        self.LSTM_layers = LSTM_layers\n",
    "        self.input_size = input_size\n",
    "        \n",
    "        self.dropout = nn.Dropout(0.5)\n",
    "        self.embedding = nn.Embedding(self.input_size, self.hidden_dim, padding_idx=0)\n",
    "        self.lstm = nn.LSTM(input_size=self.hidden_dim, hidden_size=self.hidden_dim, num_layers=self.LSTM_layers, batch_first=True)\n",
    "        self.lin1 = nn.Linear(self.hidden_dim, self.hidden_dim*2)\n",
    "        self.lin2 = nn.Linear(self.hidden_dim*2, 1)\n",
    "        \n",
    "    def forward(self, x):\n",
    "        h = torch.zeros((self.LSTM_layers, x.size(0), self.hidden_dim))\n",
    "        c = torch.zeros((self.LSTM_layers, x.size(0), self.hidden_dim))\n",
    "        \n",
    "        torch.nn.init.xavier_normal_(h)\n",
    "        torch.nn.init.xavier_normal_(c)\n",
    "        \n",
    "        out = self.embedding(x)\n",
    "        out, (hidden, cell) = self.lstm(out, (h,c))\n",
    "        out = self.dropout(out)\n",
    "        out = torch.relu_(self.lin1(out[:,-1,:]))\n",
    "        out = self.dropout(out)\n",
    "        out = torch.sigmoid(self.lin2(out))\n",
    "        \n",
    "        return out"
   ]
  },
  {
   "cell_type": "code",
   "execution_count": 13,
   "id": "856e0104",
   "metadata": {},
   "outputs": [],
   "source": [
    "class DatasetMapper(Dataset):\n",
    "    def __init__(self, x, y):\n",
    "        self.x = x\n",
    "        self.y = y\n",
    "    \n",
    "    def __len__(self):\n",
    "        return len(self.x)\n",
    "    \n",
    "    def __getitem__(self, i):\n",
    "        return self.x[i], self.y[i]"
   ]
  },
  {
   "cell_type": "code",
   "execution_count": 29,
   "id": "06891663",
   "metadata": {},
   "outputs": [],
   "source": [
    "def training(model, loss_function, optimizer, n_epochs, update_interval, loader_training):\n",
    "    \n",
    "    losses = []\n",
    "    avg_loss = []\n",
    "\n",
    "    for n in range(n_epochs):\n",
    "        i = 0\n",
    "        for x_batch, y_batch in (tqdm(loader_training)):\n",
    "\n",
    "            optimizer.zero_grad()\n",
    "            \n",
    "            x = x_batch.type(torch.LongTensor)\n",
    "            y = y_batch.type(torch.FloatTensor)\n",
    "            \n",
    "            my_output = model(x)\n",
    "            loss = loss_function(my_output, y)\n",
    "            loss.backward()\n",
    "            optimizer.step()\n",
    "            \n",
    "            if i % update_interval == 0:\n",
    "                losses.append(round(loss.item(), 2)) # This will append your losses for plotting -- please use \"loss\" as the name for your loss\n",
    "                avg_loss.append(sum(losses)/len(losses))\n",
    "            i += 1\n",
    "        \n",
    "    return model, losses, avg_loss"
   ]
  },
  {
   "cell_type": "code",
   "execution_count": 38,
   "id": "fa3e6215",
   "metadata": {
    "scrolled": true
   },
   "outputs": [
    {
     "name": "stderr",
     "output_type": "stream",
     "text": [
      "  0%|                                                  | 0/3125 [00:00<?, ?it/s]/home/matthew/.local/lib/python3.8/site-packages/torch/nn/modules/loss.py:96: UserWarning: Using a target size (torch.Size([64])) that is different to the input size (torch.Size([64, 1])). This will likely lead to incorrect results due to broadcasting. Please ensure they have the same size.\n",
      "  return F.l1_loss(input, target, reduction=self.reduction)\n",
      "100%|███████████████████████████████████████| 3125/3125 [03:22<00:00, 15.46it/s]\n"
     ]
    }
   ],
   "source": [
    "#Hyperparameters\n",
    "batch_size = 64\n",
    "hidden_dim = 128\n",
    "LSTM_layers = 2\n",
    "lr = 1e-4\n",
    "n_epochs = 1\n",
    "update_interval = 32\n",
    "\n",
    "preprocessing = Preprocessing(\"data/dataset.csv\", 10, 100)\n",
    "x_train, y_train = preprocessing.load_data()\n",
    "preprocessing.prepare_tokens(x_train)\n",
    "x_train = preprocessing.sequence_to_token(x_train)\n",
    "\n",
    "training_set = DatasetMapper(x_train, y_train)\n",
    "loader_training = DataLoader(training_set, batch_size=batch_size)\n",
    "\n",
    "model = HumorDetector(batch_size, hidden_dim, LSTM_layers, 100)\n",
    "\n",
    "loss_function = nn.L1Loss()\n",
    "optimizer = torch.optim.Adam(model.parameters(), lr=lr)\n",
    "\n",
    "trained_model, losses, avg_loss = training(model, loss_function, optimizer, n_epochs, update_interval, loader_training)"
   ]
  },
  {
   "cell_type": "code",
   "execution_count": 40,
   "id": "46da35d6",
   "metadata": {},
   "outputs": [
    {
     "data": {
      "image/png": "[encoded data removed]",
      "text/plain": [
       "<Figure size 432x288 with 1 Axes>"
      ]
     },
     "metadata": {
      "needs_background": "light"
     },
     "output_type": "display_data"
    }
   ],
   "source": [
    "plt.plot(np.arange(len(losses)) * update_interval, losses)\n",
    "plt.title(\"training curve\")\n",
    "plt.xlabel(\"number of strings trained on\")\n",
    "plt.ylabel(\"Loss\")\n",
    "plt.show()"
   ]
  },
  {
   "cell_type": "code",
   "execution_count": null,
   "id": "4a264129",
   "metadata": {},
   "outputs": [],
   "source": []
  }
 ],
 "metadata": {
  "kernelspec": {
   "display_name": "Python 3",
   "language": "python",
   "name": "python3"
  },
  "language_info": {
   "codemirror_mode": {
    "name": "ipython",
    "version": 3
   },
   "file_extension": ".py",
   "mimetype": "text/x-python",
   "name": "python",
   "nbconvert_exporter": "python",
   "pygments_lexer": "ipython3",
   "version": "3.8.13"
  }
 },
 "nbformat": 4,
 "nbformat_minor": 5
}
