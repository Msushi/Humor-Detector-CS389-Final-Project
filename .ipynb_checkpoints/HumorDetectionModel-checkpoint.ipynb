{
 "cells": [
  {
   "cell_type": "code",
   "execution_count": 2,
   "id": "acaa7e25",
   "metadata": {},
   "outputs": [],
   "source": [
    "import torch\n",
    "import torch.nn as nn\n",
    "import numpy as np\n",
    "import pandas as pd\n",
    "import random\n",
    "import matplotlib.pyplot as plt\n",
    "import pickle\n",
    "from torchtext.datasets import AG_NEWS\n",
    "from torchtext.data.utils import get_tokenizer\n",
    "from torchtext.vocab import build_vocab_from_iterator\n",
    "from tqdm import tqdm\n",
    "from collections.abc import Iterable"
   ]
  },
  {
   "cell_type": "code",
   "execution_count": 3,
   "id": "01feb740",
   "metadata": {},
   "outputs": [],
   "source": [
    "def load_dataset(file_path:str):\n",
    "    '''\n",
    "    Imports the ColBERT dataset given a valid .CSV file.\n",
    "    '''\n",
    "    data = pd.read_csv(file_path)\n",
    "    features = pd.read_csv(file_path, usecols=['text']).values\n",
    "    labels = pd.read_csv(file_path, usecols=['humor']).values\n",
    "    \n",
    "    return features, labels"
   ]
  },
  {
   "cell_type": "code",
   "execution_count": 4,
   "id": "2f0617f2",
   "metadata": {},
   "outputs": [
    {
     "name": "stdout",
     "output_type": "stream",
     "text": [
      "['What happened when the red ship and the blue ship crashed they were marooned']\n",
      "humor: [ True]\n"
     ]
    }
   ],
   "source": [
    "features, labels = load_dataset(\"data/dataset.csv\")\n",
    "example_datapoint = random.randint(0,200000)\n",
    "print(features[example_datapoint])\n",
    "print(\"humor: \" + str(labels[example_datapoint]))"
   ]
  },
  {
   "cell_type": "code",
   "execution_count": 5,
   "id": "c91aebcf",
   "metadata": {},
   "outputs": [],
   "source": [
    "class HumorDetector(nn.Module):\n",
    "    def __init__(self, vocab_size, embed_dim):\n",
    "        super(HumorDetector, self).__init__()\n",
    "        \n",
    "        #Creating layers of perceptron\n",
    "        self.embedding = nn.Embedding(vocab_size, embed_dim, sparse=True)\n",
    "        self.lin = nn.Linear(embed_dim, 1)\n",
    "        self.relu = nn.ReLU() \n",
    "    \n",
    "    def forward(self, x):\n",
    "        return nn.Sigmoid()(torch.sum(self.lin(self.relu(self.embedding(x))))/(x.size(dim=0)))"
   ]
  },
  {
   "cell_type": "code",
   "execution_count": 6,
   "id": "ff7d7062",
   "metadata": {},
   "outputs": [
    {
     "name": "stderr",
     "output_type": "stream",
     "text": [
      "/home/matthew/.local/lib/python3.8/site-packages/torch/utils/data/datapipes/utils/common.py:24: UserWarning: Lambda function is not supported for pickle, please use regular python function or functools.partial instead.\n",
      "  warnings.warn(\n"
     ]
    }
   ],
   "source": [
    "#This code creaters the text_pipeline, which will transform a string of raw text into tensors that we can train on.\n",
    "tokenizer = get_tokenizer('basic_english')\n",
    "train_iter = AG_NEWS(split='train')\n",
    "\n",
    "def yield_tokens(data_iter):\n",
    "    for _, text in data_iter:\n",
    "        yield tokenizer(text)\n",
    "\n",
    "vocab = build_vocab_from_iterator(yield_tokens(train_iter), specials=[\"<unk>\"])\n",
    "vocab.set_default_index(vocab[\"<unk>\"])\n",
    "\n",
    "text_pipeline = lambda x: vocab(tokenizer(x))"
   ]
  },
  {
   "cell_type": "code",
   "execution_count": 7,
   "id": "440a1977",
   "metadata": {},
   "outputs": [],
   "source": [
    "def forward_pass_wrapper(model, text_pipeline, input_array, i):\n",
    "    '''\n",
    "    model - the model with the forward pass function that is being performed\n",
    "    text_pipeline - string-to-tensor function created earlier\n",
    "    input_array - array that we are taking input from (in our case, features)\n",
    "    i - the index in the array we are performing the forward pass on\n",
    "    '''\n",
    "    return model(torch.tensor(text_pipeline((input_array[i])[0])))\n",
    "def bool_to_int(boolean):\n",
    "    if (boolean):\n",
    "        return 1.0\n",
    "    else:\n",
    "        return 0.0"
   ]
  },
  {
   "cell_type": "code",
   "execution_count": 8,
   "id": "5011a9fe",
   "metadata": {},
   "outputs": [
    {
     "name": "stdout",
     "output_type": "stream",
     "text": [
      "tensor(0.5183, grad_fn=<SigmoidBackward0>)\n"
     ]
    }
   ],
   "source": [
    "#Sample output for untrained model - should be a number between 0 and 1.\n",
    "test_model = HumorDetector(len(vocab), 64)\n",
    "print(forward_pass_wrapper(test_model, text_pipeline, features, example_datapoint))"
   ]
  },
  {
   "cell_type": "code",
   "execution_count": 11,
   "id": "b79cc0c1",
   "metadata": {},
   "outputs": [],
   "source": [
    "def training(model, loss_function, optimizer, features, labels, n_epochs, update_interval):\n",
    "    \n",
    "    losses = []\n",
    "    avg_loss = []\n",
    "\n",
    "    for n in range(n_epochs):\n",
    "        for i in (tqdm(range(features.size))):\n",
    "\n",
    "            optimizer.zero_grad()\n",
    "            my_output = forward_pass_wrapper(model, text_pipeline, features, i)\n",
    "            label = torch.tensor(bool_to_int((labels[i])))\n",
    "            loss = loss_function(my_output, label)\n",
    "            loss.backward()\n",
    "            optimizer.step()\n",
    "            \n",
    "            if i % update_interval == 0:\n",
    "                losses.append(round(loss.item(), 2)) # This will append your losses for plotting -- please use \"loss\" as the name for your loss\n",
    "                avg_loss.append(sum(losses)/len(losses))\n",
    "        \n",
    "    return model, losses, avg_loss"
   ]
  },
  {
   "cell_type": "code",
   "execution_count": 12,
   "id": "f37e6c87",
   "metadata": {},
   "outputs": [
    {
     "name": "stderr",
     "output_type": "stream",
     "text": [
      "100%|█████████████████████████████████| 200000/200000 [03:04<00:00, 1086.55it/s]\n"
     ]
    },
    {
     "data": {
      "image/png": "[encoded data removed]",
      "text/plain": [
       "<Figure size 432x288 with 1 Axes>"
      ]
     },
     "metadata": {
      "needs_background": "light"
     },
     "output_type": "display_data"
    }
   ],
   "source": [
    "#Hyperparameters\n",
    "lr = 1e-4\n",
    "n_epochs = 1\n",
    "update_interval = 32\n",
    "\n",
    "model = HumorDetector(len(vocab), 64) \n",
    "loss_function = nn.MSELoss()                        \n",
    "optimizer = torch.optim.SGD(model.parameters(), lr=lr) \n",
    "\n",
    "trained_model, losses, avg_loss = training(model, loss_function, optimizer, features, labels, n_epochs, update_interval)\n",
    "\n",
    "plt.plot(np.arange(len(losses)) * update_interval, losses)\n",
    "plt.title(\"training curve\")\n",
    "plt.xlabel(\"number of strings trained on\")\n",
    "plt.ylabel(\"Loss\")\n",
    "plt.show()"
   ]
  },
  {
   "cell_type": "code",
   "execution_count": 13,
   "id": "26b6dbbe",
   "metadata": {},
   "outputs": [
    {
     "data": {
      "image/png": "[encoded data removed]",
      "text/plain": [
       "<Figure size 432x288 with 1 Axes>"
      ]
     },
     "metadata": {
      "needs_background": "light"
     },
     "output_type": "display_data"
    }
   ],
   "source": [
    "plt.plot(np.arange(len(avg_loss)) * update_interval, avg_loss)\n",
    "plt.title(\"training curve\")\n",
    "plt.xlabel(\"number of strings trained on\")\n",
    "plt.ylabel(\"Average Loss\")\n",
    "plt.show()"
   ]
  },
  {
   "cell_type": "code",
   "execution_count": 16,
   "id": "d61dade4",
   "metadata": {},
   "outputs": [
    {
     "name": "stdout",
     "output_type": "stream",
     "text": [
      "Funny value of a joke (funny):\n",
      "0.29859501123428345\n",
      "Funny value of a statement (not funny):\n",
      "0.6621774435043335\n"
     ]
    }
   ],
   "source": [
    "#Briefly testing the trained model (higher number = more funny)\n",
    "test_strings = [\"Why did the chicken cross the road? To get to the other side.\",\n",
    "                \"This is an example string of text.\"]\n",
    "\n",
    "print(\"Funny value of a joke (funny):\")\n",
    "print(forward_pass_wrapper(trained_model, text_pipeline, test_strings, 0).item())\n",
    "print(\"Funny value of a statement (not funny):\")\n",
    "print(forward_pass_wrapper(trained_model, text_pipeline, test_strings, 1).item())"
   ]
  },
  {
   "cell_type": "code",
   "execution_count": null,
   "id": "b140b781",
   "metadata": {},
   "outputs": [],
   "source": []
  },
  {
   "cell_type": "code",
   "execution_count": null,
   "id": "2709dab0",
   "metadata": {},
   "outputs": [],
   "source": []
  }
 ],
 "metadata": {
  "kernelspec": {
   "display_name": "Python 3 (ipykernel)",
   "language": "python",
   "name": "python3"
  },
  "language_info": {
   "codemirror_mode": {
    "name": "ipython",
    "version": 3
   },
   "file_extension": ".py",
   "mimetype": "text/x-python",
   "name": "python",
   "nbconvert_exporter": "python",
   "pygments_lexer": "ipython3",
   "version": "3.8.10"
  }
 },
 "nbformat": 4,
 "nbformat_minor": 5
}
