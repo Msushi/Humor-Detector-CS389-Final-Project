{
 "cells": [
  {
   "cell_type": "code",
   "execution_count": 13,
   "id": "acaa7e25",
   "metadata": {},
   "outputs": [],
   "source": [
    "import torch\n",
    "import torch.nn as nn\n",
    "import numpy as np\n",
    "import pandas as pd\n",
    "import random\n",
    "from torchtext.datasets import AG_NEWS\n",
    "from torchtext.data.utils import get_tokenizer\n",
    "from torchtext.vocab import build_vocab_from_iterator\n",
    "from tqdm import tqdm\n",
    "from collections.abc import Iterable"
   ]
  },
  {
   "cell_type": "code",
   "execution_count": 14,
   "id": "01feb740",
   "metadata": {},
   "outputs": [],
   "source": [
    "def load_dataset(file_path:str):\n",
    "    '''\n",
    "    Imports the ColBERT dataset given a valid .CSV file.\n",
    "    '''\n",
    "    data = pd.read_csv(file_path)\n",
    "    features = pd.read_csv(file_path, usecols=['text']).values\n",
    "    labels = pd.read_csv(file_path, usecols=['humor']).values\n",
    "    \n",
    "    return features, labels"
   ]
  },
  {
   "cell_type": "code",
   "execution_count": 15,
   "id": "2f0617f2",
   "metadata": {},
   "outputs": [
    {
     "name": "stdout",
     "output_type": "stream",
     "text": [
      "['What do you call a polish dancer? a stripper']\n",
      "humor: [ True]\n"
     ]
    }
   ],
   "source": [
    "features, labels = load_dataset(\"data/dataset.csv\")\n",
    "example_datapoint = random.randint(0,200000)\n",
    "print(features[example_datapoint])\n",
    "print(\"humor: \" + str(labels[example_datapoint]))"
   ]
  },
  {
   "cell_type": "code",
   "execution_count": 36,
   "id": "c91aebcf",
   "metadata": {},
   "outputs": [],
   "source": [
    "class HumorDetector(nn.Module):\n",
    "    def __init__(self, vocab_size, embed_dim):\n",
    "        super(HumorDetector, self).__init__()\n",
    "        \n",
    "        #Creating layers of perceptron\n",
    "        self.embedding = nn.Embedding(vocab_size, embed_dim, sparse=True)\n",
    "        self.lin = nn.Linear(64, 1)\n",
    "        self.relu = nn.ReLU() \n",
    "    \n",
    "    def forward(self, x):\n",
    "        return self.lin(self.relu(self.embedding(x)))"
   ]
  },
  {
   "cell_type": "code",
   "execution_count": 37,
   "id": "ff7d7062",
   "metadata": {},
   "outputs": [],
   "source": [
    "#This code creaters the text_pipeline, which will transform a string of raw text into tensors that we can train on.\n",
    "tokenizer = get_tokenizer('basic_english')\n",
    "train_iter = AG_NEWS(split='train')\n",
    "\n",
    "def yield_tokens(data_iter):\n",
    "    for _, text in data_iter:\n",
    "        yield tokenizer(text)\n",
    "\n",
    "vocab = build_vocab_from_iterator(yield_tokens(train_iter), specials=[\"<unk>\"])\n",
    "vocab.set_default_index(vocab[\"<unk>\"])\n",
    "\n",
    "text_pipeline = lambda x: vocab(tokenizer(x))"
   ]
  },
  {
   "cell_type": "code",
   "execution_count": 38,
   "id": "5011a9fe",
   "metadata": {},
   "outputs": [
    {
     "name": "stdout",
     "output_type": "stream",
     "text": [
      "[183, 423, 165, 683, 5, 4120, 14355, 80, 5, 89181]\n",
      "tensor([[ 0.2540],\n",
      "        [ 0.3674],\n",
      "        [-0.0971],\n",
      "        [ 0.0126],\n",
      "        [-0.4518],\n",
      "        [ 0.4242],\n",
      "        [ 0.2024],\n",
      "        [-0.0561],\n",
      "        [-0.4518],\n",
      "        [-0.0514]], grad_fn=<AddmmBackward0>)\n"
     ]
    }
   ],
   "source": [
    "test_model = HumorDetector(len(vocab), 64)\n",
    "print(text_pipeline((features[example_datapoint])[0]))\n",
    "\n",
    "print(test_model(torch.tensor(text_pipeline((features[example_datapoint])[0]))))"
   ]
  },
  {
   "cell_type": "code",
   "execution_count": null,
   "id": "b79cc0c1",
   "metadata": {},
   "outputs": [],
   "source": []
  },
  {
   "cell_type": "code",
   "execution_count": null,
   "id": "f37e6c87",
   "metadata": {},
   "outputs": [],
   "source": []
  }
 ],
 "metadata": {
  "kernelspec": {
   "display_name": "Python 3",
   "language": "python",
   "name": "python3"
  },
  "language_info": {
   "codemirror_mode": {
    "name": "ipython",
    "version": 3
   },
   "file_extension": ".py",
   "mimetype": "text/x-python",
   "name": "python",
   "nbconvert_exporter": "python",
   "pygments_lexer": "ipython3",
   "version": "3.8.10"
  }
 },
 "nbformat": 4,
 "nbformat_minor": 5
}
